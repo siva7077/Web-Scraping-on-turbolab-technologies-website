{
 "cells": [
  {
   "cell_type": "code",
   "execution_count": 13,
   "metadata": {},
   "outputs": [
    {
     "name": "stderr",
     "output_type": "stream",
     "text": [
      "C:\\Users\\Admin\\Anaconda3\\lib\\site-packages\\urllib3\\connectionpool.py:858: InsecureRequestWarning: Unverified HTTPS request is being made. Adding certificate verification is strongly advised. See: https://urllib3.readthedocs.io/en/latest/advanced-usage.html#ssl-warnings\n",
      "  InsecureRequestWarning)\n"
     ]
    }
   ],
   "source": [
    "import requests\n",
    "from bs4 import BeautifulSoup\n",
    "import csv\n",
    "\n",
    "# Send an HTTP request to the website\n",
    "response = requests.get(\"https://turbolab.in/culture/\", verify=False)\n",
    "\n",
    "# Parse the HTML content using BeautifulSoup\n",
    "soup = BeautifulSoup(response.content, \"html.parser\")\n",
    "\n",
    "# Find all the quotes and their corresponding name and designation\n",
    "quotes = soup.find_all(\"div\", {\"class\": \"et_pb_testimonial_content\"})\n",
    "names = soup.find_all(\"span\", {\"class\": \"et_pb_testimonial_author\"})\n",
    "designations = soup.find_all(\"span\", {\"class\": \"et_pb_testimonial_position\"})\n",
    "\n",
    "# Check that all lists have the same length\n",
    "if len(quotes) == len(names) == len(designations):\n",
    "    quote_data = []\n",
    "\n",
    "    # Extract the data and store it in a list\n",
    "    for i in range(len(quotes)):\n",
    "        text = quotes[i].text.strip()\n",
    "        name = names[i].text.strip()\n",
    "        designation = designations[i].text.strip()\n",
    "        quote_data.append((text, name, designation))\n",
    "\n",
    "    # Write the data to a CSV file\n",
    "    with open(\"quotes.csv\", \"w\", newline=\"\", encoding=\"utf-8\") as f:\n",
    "        writer = csv.writer(f)\n",
    "        writer.writerow([\"Quote\", \"Name\", \"Designation\"])\n",
    "        writer.writerows(quote_data)\n",
    "else:\n",
    "    print(\"Error: Lists have different lengths.\")\n"
   ]
  },
  {
   "cell_type": "code",
   "execution_count": 14,
   "metadata": {},
   "outputs": [
    {
     "data": {
      "text/html": [
       "<div>\n",
       "<style scoped>\n",
       "    .dataframe tbody tr th:only-of-type {\n",
       "        vertical-align: middle;\n",
       "    }\n",
       "\n",
       "    .dataframe tbody tr th {\n",
       "        vertical-align: top;\n",
       "    }\n",
       "\n",
       "    .dataframe thead th {\n",
       "        text-align: right;\n",
       "    }\n",
       "</style>\n",
       "<table border=\"1\" class=\"dataframe\">\n",
       "  <thead>\n",
       "    <tr style=\"text-align: right;\">\n",
       "      <th></th>\n",
       "      <th>Quote</th>\n",
       "      <th>Name</th>\n",
       "      <th>Designation</th>\n",
       "    </tr>\n",
       "  </thead>\n",
       "  <tbody>\n",
       "    <tr>\n",
       "      <th>0</th>\n",
       "      <td>We went Remote before it became mainstream! Tu...</td>\n",
       "      <td>Nikhil Paul</td>\n",
       "      <td>Lead</td>\n",
       "    </tr>\n",
       "    <tr>\n",
       "      <th>1</th>\n",
       "      <td>As the name says it is a lab where we can expe...</td>\n",
       "      <td>Sachin</td>\n",
       "      <td>Lead</td>\n",
       "    </tr>\n",
       "    <tr>\n",
       "      <th>2</th>\n",
       "      <td>It is one of the best places to learn things, ...</td>\n",
       "      <td>Archana</td>\n",
       "      <td>Data Analyst</td>\n",
       "    </tr>\n",
       "    <tr>\n",
       "      <th>3</th>\n",
       "      <td>Turbolab culture, to me, is basically about pr...</td>\n",
       "      <td>Nagaraj</td>\n",
       "      <td>Python Developer</td>\n",
       "    </tr>\n",
       "    <tr>\n",
       "      <th>4</th>\n",
       "      <td>For a fresher, probably the best company to wo...</td>\n",
       "      <td>Agus</td>\n",
       "      <td>Python Developer</td>\n",
       "    </tr>\n",
       "  </tbody>\n",
       "</table>\n",
       "</div>"
      ],
      "text/plain": [
       "                                               Quote         Name  \\\n",
       "0  We went Remote before it became mainstream! Tu...  Nikhil Paul   \n",
       "1  As the name says it is a lab where we can expe...       Sachin   \n",
       "2  It is one of the best places to learn things, ...      Archana   \n",
       "3  Turbolab culture, to me, is basically about pr...      Nagaraj   \n",
       "4  For a fresher, probably the best company to wo...         Agus   \n",
       "\n",
       "        Designation  \n",
       "0              Lead  \n",
       "1              Lead  \n",
       "2      Data Analyst  \n",
       "3  Python Developer  \n",
       "4  Python Developer  "
      ]
     },
     "execution_count": 14,
     "metadata": {},
     "output_type": "execute_result"
    }
   ],
   "source": [
    "import pandas as pd\n",
    "df=pd.read_csv(r\"quotes.csv\")\n",
    "df.head(5)\n"
   ]
  },
  {
   "cell_type": "code",
   "execution_count": 15,
   "metadata": {},
   "outputs": [],
   "source": [
    "import nltk\n",
    "# nltk.download('punkt')\n",
    "# nltk.download('stopwords')\n",
    "# print(\",jbmghmf\")"
   ]
  },
  {
   "cell_type": "code",
   "execution_count": 16,
   "metadata": {},
   "outputs": [
    {
     "name": "stdout",
     "output_type": "stream",
     "text": [
      "work: 24\n",
      "turbolab: 17\n",
      "working: 13\n",
      "place: 11\n",
      "learn: 10\n",
      "time: 10\n",
      "great: 8\n",
      "friendly: 6\n",
      "environment: 6\n",
      "best: 6\n"
     ]
    }
   ],
   "source": [
    "import pandas as pd\n",
    "import nltk\n",
    "from nltk.corpus import stopwords\n",
    "from collections import Counter\n",
    "\n",
    "# Load the data from the CSV file\n",
    "data = pd.read_csv('quotes.csv')\n",
    "\n",
    "# Concatenate all the quotes into a single string\n",
    "quotes_str = ' '.join(data['Quote'])\n",
    "\n",
    "# Tokenize the string into words\n",
    "words = nltk.word_tokenize(quotes_str)\n",
    "\n",
    "# Remove stopwords and non-alphabetic words\n",
    "stopwords_set = set(stopwords.words('english'))\n",
    "words_alpha = [word.lower() for word in words if word.isalpha() and word.lower() not in stopwords_set]\n",
    "\n",
    "# Count the frequency of each word\n",
    "word_counts = Counter(words_alpha)\n",
    "\n",
    "# Print the top 10 most frequent words\n",
    "for word, count in word_counts.most_common(10):\n",
    "    print(f'{word}: {count}')\n"
   ]
  },
  {
   "cell_type": "code",
   "execution_count": 17,
   "metadata": {},
   "outputs": [
    {
     "data": {
      "image/png": "[encoded data removed]",
      "text/plain": [
       "<Figure size 432x288 with 1 Axes>"
      ]
     },
     "metadata": {},
     "output_type": "display_data"
    }
   ],
   "source": [
    "import pandas as pd\n",
    "import matplotlib.pyplot as plt\n",
    "\n",
    "# Load the data into a pandas dataframe\n",
    "df = pd.read_csv(\"quotes.csv\")\n",
    "\n",
    "# Group the data by designation and count the number of unique authors per designation\n",
    "designation_authors = df.groupby(\"Designation\")[\"Name\"].nunique()\n",
    "\n",
    "# Create a pie chart of the author counts\n",
    "plt.pie(designation_authors.values, labels=designation_authors.index, autopct=\"%1.2f%%\")\n",
    "plt.title(\"Distribution of Quote Authors by Designation\")\n",
    "plt.show()\n",
    "\n"
   ]
  },
  {
   "cell_type": "code",
   "execution_count": null,
   "metadata": {},
   "outputs": [],
   "source": []
  }
 ],
 "metadata": {
  "kernelspec": {
   "display_name": "Python 3",
   "language": "python",
   "name": "python3"
  },
  "language_info": {
   "codemirror_mode": {
    "name": "ipython",
    "version": 3
   },
   "file_extension": ".py",
   "mimetype": "text/x-python",
   "name": "python",
   "nbconvert_exporter": "python",
   "pygments_lexer": "ipython3",
   "version": "3.6.5"
  }
 },
 "nbformat": 4,
 "nbformat_minor": 2
}
